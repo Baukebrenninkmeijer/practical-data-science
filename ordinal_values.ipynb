{
 "cells": [
  {
   "cell_type": "code",
   "execution_count": 403,
   "metadata": {},
   "outputs": [],
   "source": [
    "import pandas as pd\n",
    "from sklearn.model_selection import train_test_split\n",
    "from sklearn.ensemble import RandomForestClassifier\n",
    "from sklearn.tree import DecisionTreeClassifier\n",
    "from sklearn.neighbors import KNeighborsClassifier\n",
    "from tqdm import tqdm, trange\n",
    "import matplotlib.pyplot as plt\n",
    "import numpy as np\n",
    "from typing import Dict, List\n",
    "import seaborn as sns\n",
    "from sklearn.preprocessing import MinMaxScaler\n",
    "seed = 42\n",
    "sns.set()"
   ]
  },
  {
   "cell_type": "code",
   "execution_count": 186,
   "metadata": {},
   "outputs": [],
   "source": [
    "df = pd.DataFrame({'Size': ['small', 'medium', 'large']})\n",
    "df.Size = df.Size.astype('category')"
   ]
  },
  {
   "cell_type": "code",
   "execution_count": 187,
   "metadata": {},
   "outputs": [],
   "source": [
    "df.Size.cat.categories = df.Size.cat.reorder_categories(new_categories=['small', 'medium', 'large'])"
   ]
  },
  {
   "cell_type": "code",
   "execution_count": 188,
   "metadata": {},
   "outputs": [
    {
     "data": {
      "text/plain": [
       "0     large\n",
       "1    medium\n",
       "2     small\n",
       "Name: Size, dtype: category\n",
       "Categories (3, object): ['small' < 'medium' < 'large']"
      ]
     },
     "execution_count": 188,
     "metadata": {},
     "output_type": "execute_result"
    }
   ],
   "source": [
    "df.Size.cat.as_ordered()"
   ]
  },
  {
   "cell_type": "code",
   "execution_count": 24,
   "metadata": {},
   "outputs": [
    {
     "name": "stdout",
     "output_type": "stream",
     "text": [
      "   small  medium  large\n",
      "0      0       0      1\n",
      "1      0       1      0\n",
      "2      1       0      0\n"
     ]
    }
   ],
   "source": [
    "print(pd.get_dummies(df.Size))"
   ]
  },
  {
   "cell_type": "code",
   "execution_count": 25,
   "metadata": {},
   "outputs": [],
   "source": [
    "df['size_code'] = df.Size.cat.codes"
   ]
  },
  {
   "cell_type": "markdown",
   "metadata": {},
   "source": [
    "# Now for real"
   ]
  },
  {
   "cell_type": "code",
   "execution_count": 285,
   "metadata": {},
   "outputs": [
    {
     "data": {
      "text/html": [
       "<div>\n",
       "<style scoped>\n",
       "    .dataframe tbody tr th:only-of-type {\n",
       "        vertical-align: middle;\n",
       "    }\n",
       "\n",
       "    .dataframe tbody tr th {\n",
       "        vertical-align: top;\n",
       "    }\n",
       "\n",
       "    .dataframe thead th {\n",
       "        text-align: right;\n",
       "    }\n",
       "</style>\n",
       "<table border=\"1\" class=\"dataframe\">\n",
       "  <thead>\n",
       "    <tr style=\"text-align: right;\">\n",
       "      <th></th>\n",
       "      <th>enrollee_id</th>\n",
       "      <th>city</th>\n",
       "      <th>city_development_index</th>\n",
       "      <th>gender</th>\n",
       "      <th>relevent_experience</th>\n",
       "      <th>enrolled_university</th>\n",
       "      <th>education_level</th>\n",
       "      <th>major_discipline</th>\n",
       "      <th>experience</th>\n",
       "      <th>company_size</th>\n",
       "      <th>company_type</th>\n",
       "      <th>last_new_job</th>\n",
       "      <th>training_hours</th>\n",
       "      <th>target</th>\n",
       "    </tr>\n",
       "  </thead>\n",
       "  <tbody>\n",
       "    <tr>\n",
       "      <th>0</th>\n",
       "      <td>25298</td>\n",
       "      <td>city_138</td>\n",
       "      <td>0.836</td>\n",
       "      <td>Male</td>\n",
       "      <td>No relevent experience</td>\n",
       "      <td>Full time course</td>\n",
       "      <td>High School</td>\n",
       "      <td>NaN</td>\n",
       "      <td>5</td>\n",
       "      <td>100-500</td>\n",
       "      <td>Pvt Ltd</td>\n",
       "      <td>1</td>\n",
       "      <td>45</td>\n",
       "      <td>0</td>\n",
       "    </tr>\n",
       "    <tr>\n",
       "      <th>1</th>\n",
       "      <td>4241</td>\n",
       "      <td>city_160</td>\n",
       "      <td>0.920</td>\n",
       "      <td>Male</td>\n",
       "      <td>No relevent experience</td>\n",
       "      <td>Full time course</td>\n",
       "      <td>High School</td>\n",
       "      <td>NaN</td>\n",
       "      <td>5</td>\n",
       "      <td>NaN</td>\n",
       "      <td>NaN</td>\n",
       "      <td>1</td>\n",
       "      <td>17</td>\n",
       "      <td>1</td>\n",
       "    </tr>\n",
       "    <tr>\n",
       "      <th>2</th>\n",
       "      <td>24086</td>\n",
       "      <td>city_57</td>\n",
       "      <td>0.866</td>\n",
       "      <td>Male</td>\n",
       "      <td>No relevent experience</td>\n",
       "      <td>no_enrollment</td>\n",
       "      <td>Graduate</td>\n",
       "      <td>STEM</td>\n",
       "      <td>10</td>\n",
       "      <td>NaN</td>\n",
       "      <td>NaN</td>\n",
       "      <td>1</td>\n",
       "      <td>50</td>\n",
       "      <td>0</td>\n",
       "    </tr>\n",
       "    <tr>\n",
       "      <th>3</th>\n",
       "      <td>26773</td>\n",
       "      <td>city_16</td>\n",
       "      <td>0.910</td>\n",
       "      <td>Male</td>\n",
       "      <td>Has relevent experience</td>\n",
       "      <td>no_enrollment</td>\n",
       "      <td>Graduate</td>\n",
       "      <td>STEM</td>\n",
       "      <td>&gt;20</td>\n",
       "      <td>50-99</td>\n",
       "      <td>Pvt Ltd</td>\n",
       "      <td>&gt;4</td>\n",
       "      <td>135</td>\n",
       "      <td>0</td>\n",
       "    </tr>\n",
       "    <tr>\n",
       "      <th>4</th>\n",
       "      <td>32325</td>\n",
       "      <td>city_143</td>\n",
       "      <td>0.740</td>\n",
       "      <td>NaN</td>\n",
       "      <td>No relevent experience</td>\n",
       "      <td>Full time course</td>\n",
       "      <td>Graduate</td>\n",
       "      <td>STEM</td>\n",
       "      <td>5</td>\n",
       "      <td>NaN</td>\n",
       "      <td>NaN</td>\n",
       "      <td>never</td>\n",
       "      <td>17</td>\n",
       "      <td>1</td>\n",
       "    </tr>\n",
       "  </tbody>\n",
       "</table>\n",
       "</div>"
      ],
      "text/plain": [
       "   enrollee_id      city  city_development_index gender  \\\n",
       "0        25298  city_138                   0.836   Male   \n",
       "1         4241  city_160                   0.920   Male   \n",
       "2        24086   city_57                   0.866   Male   \n",
       "3        26773   city_16                   0.910   Male   \n",
       "4        32325  city_143                   0.740    NaN   \n",
       "\n",
       "       relevent_experience enrolled_university education_level  \\\n",
       "0   No relevent experience    Full time course     High School   \n",
       "1   No relevent experience    Full time course     High School   \n",
       "2   No relevent experience       no_enrollment        Graduate   \n",
       "3  Has relevent experience       no_enrollment        Graduate   \n",
       "4   No relevent experience    Full time course        Graduate   \n",
       "\n",
       "  major_discipline experience company_size company_type last_new_job  \\\n",
       "0              NaN          5      100-500      Pvt Ltd            1   \n",
       "1              NaN          5          NaN          NaN            1   \n",
       "2             STEM         10          NaN          NaN            1   \n",
       "3             STEM        >20        50-99      Pvt Ltd           >4   \n",
       "4             STEM          5          NaN          NaN        never   \n",
       "\n",
       "   training_hours  target  \n",
       "0              45       0  \n",
       "1              17       1  \n",
       "2              50       0  \n",
       "3             135       0  \n",
       "4              17       1  "
      ]
     },
     "execution_count": 285,
     "metadata": {},
     "output_type": "execute_result"
    }
   ],
   "source": [
    "x_train = pd.read_csv('data/job_interest_data.csv')\n",
    "y_train = pd.read_csv('data/job_interest_target.csv')\n",
    "x_test = pd.read_csv('data/X_test.csv')\n",
    "y_test = pd.read_csv('data/y_test.csv')\n",
    "df = pd.merge(left=pd.concat([x_train, x_test]), right=pd.concat([y_train, y_test]), on='enrollee_id')\n",
    "df.target = df.target.astype(int)\n",
    "df.head()"
   ]
  },
  {
   "cell_type": "code",
   "execution_count": 288,
   "metadata": {},
   "outputs": [
    {
     "data": {
      "text/html": [
       "<div>\n",
       "<style scoped>\n",
       "    .dataframe tbody tr th:only-of-type {\n",
       "        vertical-align: middle;\n",
       "    }\n",
       "\n",
       "    .dataframe tbody tr th {\n",
       "        vertical-align: top;\n",
       "    }\n",
       "\n",
       "    .dataframe thead th {\n",
       "        text-align: right;\n",
       "    }\n",
       "</style>\n",
       "<table border=\"1\" class=\"dataframe\">\n",
       "  <thead>\n",
       "    <tr style=\"text-align: right;\">\n",
       "      <th></th>\n",
       "      <th>0</th>\n",
       "      <th>1</th>\n",
       "    </tr>\n",
       "  </thead>\n",
       "  <tbody>\n",
       "    <tr>\n",
       "      <th>enrollee_id</th>\n",
       "      <td>int64</td>\n",
       "      <td>19158</td>\n",
       "    </tr>\n",
       "    <tr>\n",
       "      <th>city</th>\n",
       "      <td>object</td>\n",
       "      <td>123</td>\n",
       "    </tr>\n",
       "    <tr>\n",
       "      <th>city_development_index</th>\n",
       "      <td>float64</td>\n",
       "      <td>93</td>\n",
       "    </tr>\n",
       "    <tr>\n",
       "      <th>gender</th>\n",
       "      <td>object</td>\n",
       "      <td>3</td>\n",
       "    </tr>\n",
       "    <tr>\n",
       "      <th>relevent_experience</th>\n",
       "      <td>object</td>\n",
       "      <td>2</td>\n",
       "    </tr>\n",
       "    <tr>\n",
       "      <th>enrolled_university</th>\n",
       "      <td>object</td>\n",
       "      <td>3</td>\n",
       "    </tr>\n",
       "    <tr>\n",
       "      <th>education_level</th>\n",
       "      <td>object</td>\n",
       "      <td>5</td>\n",
       "    </tr>\n",
       "    <tr>\n",
       "      <th>major_discipline</th>\n",
       "      <td>object</td>\n",
       "      <td>6</td>\n",
       "    </tr>\n",
       "    <tr>\n",
       "      <th>experience</th>\n",
       "      <td>object</td>\n",
       "      <td>22</td>\n",
       "    </tr>\n",
       "    <tr>\n",
       "      <th>company_size</th>\n",
       "      <td>object</td>\n",
       "      <td>8</td>\n",
       "    </tr>\n",
       "    <tr>\n",
       "      <th>company_type</th>\n",
       "      <td>object</td>\n",
       "      <td>6</td>\n",
       "    </tr>\n",
       "    <tr>\n",
       "      <th>last_new_job</th>\n",
       "      <td>object</td>\n",
       "      <td>6</td>\n",
       "    </tr>\n",
       "    <tr>\n",
       "      <th>training_hours</th>\n",
       "      <td>int64</td>\n",
       "      <td>241</td>\n",
       "    </tr>\n",
       "    <tr>\n",
       "      <th>target</th>\n",
       "      <td>int64</td>\n",
       "      <td>2</td>\n",
       "    </tr>\n",
       "  </tbody>\n",
       "</table>\n",
       "</div>"
      ],
      "text/plain": [
       "                              0      1\n",
       "enrollee_id               int64  19158\n",
       "city                     object    123\n",
       "city_development_index  float64     93\n",
       "gender                   object      3\n",
       "relevent_experience      object      2\n",
       "enrolled_university      object      3\n",
       "education_level          object      5\n",
       "major_discipline         object      6\n",
       "experience               object     22\n",
       "company_size             object      8\n",
       "company_type             object      6\n",
       "last_new_job             object      6\n",
       "training_hours            int64    241\n",
       "target                    int64      2"
      ]
     },
     "execution_count": 288,
     "metadata": {},
     "output_type": "execute_result"
    }
   ],
   "source": [
    "pd.concat([df.dtypes, df.nunique()], axis=1)"
   ]
  },
  {
   "cell_type": "code",
   "execution_count": 211,
   "metadata": {},
   "outputs": [],
   "source": [
    "selection_cols = [\n",
    "    'relevent_experience',\n",
    "    'gender',\n",
    "    'education_level',\n",
    "    'training_hours',\n",
    "    'target'\n",
    "]\n",
    "\n",
    "df = df[selection_cols]"
   ]
  },
  {
   "cell_type": "code",
   "execution_count": 222,
   "metadata": {},
   "outputs": [],
   "source": [
    "scores = []"
   ]
  },
  {
   "cell_type": "markdown",
   "metadata": {},
   "source": [
    "# Unordered categories"
   ]
  },
  {
   "cell_type": "code",
   "execution_count": 214,
   "metadata": {},
   "outputs": [
    {
     "data": {
      "text/html": [
       "<div>\n",
       "<style scoped>\n",
       "    .dataframe tbody tr th:only-of-type {\n",
       "        vertical-align: middle;\n",
       "    }\n",
       "\n",
       "    .dataframe tbody tr th {\n",
       "        vertical-align: top;\n",
       "    }\n",
       "\n",
       "    .dataframe thead th {\n",
       "        text-align: right;\n",
       "    }\n",
       "</style>\n",
       "<table border=\"1\" class=\"dataframe\">\n",
       "  <thead>\n",
       "    <tr style=\"text-align: right;\">\n",
       "      <th></th>\n",
       "      <th>relevent_experience</th>\n",
       "      <th>gender</th>\n",
       "      <th>education_level</th>\n",
       "      <th>training_hours</th>\n",
       "      <th>target</th>\n",
       "    </tr>\n",
       "  </thead>\n",
       "  <tbody>\n",
       "    <tr>\n",
       "      <th>0</th>\n",
       "      <td>1</td>\n",
       "      <td>1</td>\n",
       "      <td>1</td>\n",
       "      <td>45</td>\n",
       "      <td>0</td>\n",
       "    </tr>\n",
       "    <tr>\n",
       "      <th>1</th>\n",
       "      <td>1</td>\n",
       "      <td>1</td>\n",
       "      <td>1</td>\n",
       "      <td>17</td>\n",
       "      <td>1</td>\n",
       "    </tr>\n",
       "    <tr>\n",
       "      <th>2</th>\n",
       "      <td>1</td>\n",
       "      <td>1</td>\n",
       "      <td>0</td>\n",
       "      <td>50</td>\n",
       "      <td>0</td>\n",
       "    </tr>\n",
       "    <tr>\n",
       "      <th>3</th>\n",
       "      <td>0</td>\n",
       "      <td>1</td>\n",
       "      <td>0</td>\n",
       "      <td>135</td>\n",
       "      <td>0</td>\n",
       "    </tr>\n",
       "    <tr>\n",
       "      <th>4</th>\n",
       "      <td>1</td>\n",
       "      <td>-1</td>\n",
       "      <td>0</td>\n",
       "      <td>17</td>\n",
       "      <td>1</td>\n",
       "    </tr>\n",
       "  </tbody>\n",
       "</table>\n",
       "</div>"
      ],
      "text/plain": [
       "   relevent_experience  gender  education_level  training_hours  target\n",
       "0                    1       1                1              45       0\n",
       "1                    1       1                1              17       1\n",
       "2                    1       1                0              50       0\n",
       "3                    0       1                0             135       0\n",
       "4                    1      -1                0              17       1"
      ]
     },
     "execution_count": 214,
     "metadata": {},
     "output_type": "execute_result"
    }
   ],
   "source": [
    "cat_cols = ['relevent_experience', 'gender', 'education_level']\n",
    "df_cat = df.copy()\n",
    "for col in cat_cols:\n",
    "    df_cat[col] = df_cat[col].astype('category').cat.codes\n",
    "df_cat.head()"
   ]
  },
  {
   "cell_type": "code",
   "execution_count": 223,
   "metadata": {},
   "outputs": [
    {
     "name": "stdout",
     "output_type": "stream",
     "text": [
      "Accuracy train: 0.794\n",
      "Accuracy test: 0.724\n"
     ]
    }
   ],
   "source": [
    "x_train, x_test, y_train, y_test = train_test_split(df_cat.drop('target', axis=1), df_cat.target, random_state=seed)\n",
    "clf = DecisionTreeClassifier(random_state=seed)\n",
    "clf.fit(x_train, y_train)\n",
    "\n",
    "train_acc = clf.score(x_train, y_train)\n",
    "test_acc = clf.score(x_test, y_test)\n",
    "print(f'Accuracy train: {train_acc:.3f}')\n",
    "print(f'Accuracy test: {test_acc:.3f}')\n",
    "scores.append({'type': 'unordered', 'train_acc': train_acc, 'test_acc': test_acc})"
   ]
  },
  {
   "cell_type": "markdown",
   "metadata": {},
   "source": [
    "# Ordered categories"
   ]
  },
  {
   "cell_type": "code",
   "execution_count": 224,
   "metadata": {},
   "outputs": [],
   "source": [
    "cat_cols = ['relevent_experience', 'gender', 'education_level']\n",
    "df_cat = df.copy()\n",
    "df_cat.education_level = df_cat.education_level.fillna('Other')\n",
    "for col in cat_cols:\n",
    "    df_cat[col] = df_cat[col].astype('category')\n",
    "\n",
    "new_categories = ['Other', 'Primary School', 'High School', 'Graduate', 'Masters', 'Phd']\n",
    "df_cat.education_level = df_cat.education_level.cat.reorder_categories(new_categories=new_categories)\n",
    "\n",
    "for col in cat_cols:\n",
    "    df_cat[col] = df_cat[col].cat.codes"
   ]
  },
  {
   "cell_type": "code",
   "execution_count": 225,
   "metadata": {},
   "outputs": [
    {
     "name": "stdout",
     "output_type": "stream",
     "text": [
      "Accuracy train: 0.794\n",
      "Accuracy test: 0.724\n"
     ]
    }
   ],
   "source": [
    "x_train, x_test, y_train, y_test = train_test_split(df_cat.drop('target', axis=1), df_cat.target, random_state=seed)\n",
    "clf = DecisionTreeClassifier(random_state=seed)\n",
    "clf.fit(x_train, y_train)\n",
    "\n",
    "train_acc = clf.score(x_train, y_train)\n",
    "test_acc = clf.score(x_test, y_test)\n",
    "print(f'Accuracy train: {train_acc:.3f}')\n",
    "print(f'Accuracy test: {test_acc:.3f}')\n",
    "scores.append({'type': 'ordered', 'train_acc': train_acc, 'test_acc': test_acc})"
   ]
  },
  {
   "cell_type": "markdown",
   "metadata": {},
   "source": [
    "# Dummies"
   ]
  },
  {
   "cell_type": "code",
   "execution_count": 226,
   "metadata": {},
   "outputs": [
    {
     "data": {
      "text/html": [
       "<div>\n",
       "<style scoped>\n",
       "    .dataframe tbody tr th:only-of-type {\n",
       "        vertical-align: middle;\n",
       "    }\n",
       "\n",
       "    .dataframe tbody tr th {\n",
       "        vertical-align: top;\n",
       "    }\n",
       "\n",
       "    .dataframe thead th {\n",
       "        text-align: right;\n",
       "    }\n",
       "</style>\n",
       "<table border=\"1\" class=\"dataframe\">\n",
       "  <thead>\n",
       "    <tr style=\"text-align: right;\">\n",
       "      <th></th>\n",
       "      <th>training_hours</th>\n",
       "      <th>target</th>\n",
       "      <th>relevent_experience_Has relevent experience</th>\n",
       "      <th>relevent_experience_No relevent experience</th>\n",
       "      <th>gender_Female</th>\n",
       "      <th>gender_Male</th>\n",
       "      <th>gender_Other</th>\n",
       "      <th>education_level_Graduate</th>\n",
       "      <th>education_level_High School</th>\n",
       "      <th>education_level_Masters</th>\n",
       "      <th>education_level_Phd</th>\n",
       "      <th>education_level_Primary School</th>\n",
       "    </tr>\n",
       "  </thead>\n",
       "  <tbody>\n",
       "    <tr>\n",
       "      <th>0</th>\n",
       "      <td>45</td>\n",
       "      <td>0</td>\n",
       "      <td>0</td>\n",
       "      <td>1</td>\n",
       "      <td>0</td>\n",
       "      <td>1</td>\n",
       "      <td>0</td>\n",
       "      <td>0</td>\n",
       "      <td>1</td>\n",
       "      <td>0</td>\n",
       "      <td>0</td>\n",
       "      <td>0</td>\n",
       "    </tr>\n",
       "    <tr>\n",
       "      <th>1</th>\n",
       "      <td>17</td>\n",
       "      <td>1</td>\n",
       "      <td>0</td>\n",
       "      <td>1</td>\n",
       "      <td>0</td>\n",
       "      <td>1</td>\n",
       "      <td>0</td>\n",
       "      <td>0</td>\n",
       "      <td>1</td>\n",
       "      <td>0</td>\n",
       "      <td>0</td>\n",
       "      <td>0</td>\n",
       "    </tr>\n",
       "    <tr>\n",
       "      <th>2</th>\n",
       "      <td>50</td>\n",
       "      <td>0</td>\n",
       "      <td>0</td>\n",
       "      <td>1</td>\n",
       "      <td>0</td>\n",
       "      <td>1</td>\n",
       "      <td>0</td>\n",
       "      <td>1</td>\n",
       "      <td>0</td>\n",
       "      <td>0</td>\n",
       "      <td>0</td>\n",
       "      <td>0</td>\n",
       "    </tr>\n",
       "    <tr>\n",
       "      <th>3</th>\n",
       "      <td>135</td>\n",
       "      <td>0</td>\n",
       "      <td>1</td>\n",
       "      <td>0</td>\n",
       "      <td>0</td>\n",
       "      <td>1</td>\n",
       "      <td>0</td>\n",
       "      <td>1</td>\n",
       "      <td>0</td>\n",
       "      <td>0</td>\n",
       "      <td>0</td>\n",
       "      <td>0</td>\n",
       "    </tr>\n",
       "    <tr>\n",
       "      <th>4</th>\n",
       "      <td>17</td>\n",
       "      <td>1</td>\n",
       "      <td>0</td>\n",
       "      <td>1</td>\n",
       "      <td>0</td>\n",
       "      <td>0</td>\n",
       "      <td>0</td>\n",
       "      <td>1</td>\n",
       "      <td>0</td>\n",
       "      <td>0</td>\n",
       "      <td>0</td>\n",
       "      <td>0</td>\n",
       "    </tr>\n",
       "  </tbody>\n",
       "</table>\n",
       "</div>"
      ],
      "text/plain": [
       "   training_hours  target  relevent_experience_Has relevent experience  \\\n",
       "0              45       0                                            0   \n",
       "1              17       1                                            0   \n",
       "2              50       0                                            0   \n",
       "3             135       0                                            1   \n",
       "4              17       1                                            0   \n",
       "\n",
       "   relevent_experience_No relevent experience  gender_Female  gender_Male  \\\n",
       "0                                           1              0            1   \n",
       "1                                           1              0            1   \n",
       "2                                           1              0            1   \n",
       "3                                           0              0            1   \n",
       "4                                           1              0            0   \n",
       "\n",
       "   gender_Other  education_level_Graduate  education_level_High School  \\\n",
       "0             0                         0                            1   \n",
       "1             0                         0                            1   \n",
       "2             0                         1                            0   \n",
       "3             0                         1                            0   \n",
       "4             0                         1                            0   \n",
       "\n",
       "   education_level_Masters  education_level_Phd  \\\n",
       "0                        0                    0   \n",
       "1                        0                    0   \n",
       "2                        0                    0   \n",
       "3                        0                    0   \n",
       "4                        0                    0   \n",
       "\n",
       "   education_level_Primary School  \n",
       "0                               0  \n",
       "1                               0  \n",
       "2                               0  \n",
       "3                               0  \n",
       "4                               0  "
      ]
     },
     "execution_count": 226,
     "metadata": {},
     "output_type": "execute_result"
    }
   ],
   "source": [
    "cat_cols = ['relevent_experience', 'gender', 'education_level']\n",
    "ohe_df = pd.concat([df, pd.get_dummies(df[cat_cols], prefix={x: x for x in cat_cols})], axis=1)\n",
    "ohe_df = ohe_df.drop(cat_cols, axis=1)\n",
    "ohe_df.head()"
   ]
  },
  {
   "cell_type": "code",
   "execution_count": 228,
   "metadata": {},
   "outputs": [
    {
     "name": "stdout",
     "output_type": "stream",
     "text": [
      "Accuracy train: 0.794\n",
      "Accuracy test: 0.725\n"
     ]
    }
   ],
   "source": [
    "x_train, x_test, y_train, y_test = train_test_split(ohe_df.drop('target', axis=1), ohe_df.target, random_state=seed)\n",
    "clf = DecisionTreeClassifier(random_state=seed)\n",
    "clf.fit(x_train, y_train)\n",
    "\n",
    "train_acc = clf.score(x_train, y_train)\n",
    "test_acc = clf.score(x_test, y_test)\n",
    "print(f'Accuracy train: {train_acc:.3f}')\n",
    "print(f'Accuracy test: {test_acc:.3f}')\n",
    "scores.append({'type': 'dummies', 'train_acc': train_acc, 'test_acc': test_acc})"
   ]
  },
  {
   "cell_type": "code",
   "execution_count": 404,
   "metadata": {},
   "outputs": [
    {
     "data": {
      "text/plain": [
       "[{'mode': 'DecisionTreeClassifier(max_depth=3, min_samples_leaf=5, random_state=42)',\n",
       "  'eval_data': 'train',\n",
       "  'type': 'dummies',\n",
       "  'acc': 0.7802756124721604},\n",
       " {'mode': 'DecisionTreeClassifier(max_depth=3, min_samples_leaf=5, random_state=42)',\n",
       "  'eval_data': 'test',\n",
       "  'type': 'dummies',\n",
       "  'acc': 0.7897703549060543},\n",
       " {'mode': 'DecisionTreeClassifier(max_depth=3, min_samples_leaf=5, random_state=42)',\n",
       "  'eval_data': 'train',\n",
       "  'type': 'unordered',\n",
       "  'acc': 0.7802756124721604},\n",
       " {'mode': 'DecisionTreeClassifier(max_depth=3, min_samples_leaf=5, random_state=42)',\n",
       "  'eval_data': 'test',\n",
       "  'type': 'unordered',\n",
       "  'acc': 0.7897703549060543},\n",
       " {'mode': 'DecisionTreeClassifier(max_depth=3, min_samples_leaf=5, random_state=42)',\n",
       "  'eval_data': 'train',\n",
       "  'type': 'ordered',\n",
       "  'acc': 0.7802756124721604},\n",
       " {'mode': 'DecisionTreeClassifier(max_depth=3, min_samples_leaf=5, random_state=42)',\n",
       "  'eval_data': 'test',\n",
       "  'type': 'ordered',\n",
       "  'acc': 0.7897703549060543}]"
      ]
     },
     "execution_count": 404,
     "metadata": {},
     "output_type": "execute_result"
    }
   ],
   "source": [
    "def test_dummies(df, clf, cat_cols, normalize=False):\n",
    "    ohe_df = pd.concat([df, pd.get_dummies(df[cat_cols], prefix={x: x for x in cat_cols})], axis=1)\n",
    "    ohe_df = ohe_df.drop(cat_cols, axis=1)\n",
    "\n",
    "    x_train, x_test, y_train, y_test = train_test_split(ohe_df.drop('target', axis=1), ohe_df.target, random_state=seed)\n",
    "    if normalize:\n",
    "        scaler = MinMaxScaler()\n",
    "        x_train = scaler.fit_transform(x_train)\n",
    "        x_test = scaler.transform(x_test)\n",
    "    \n",
    "    clf.fit(x_train, y_train)\n",
    "\n",
    "    train_acc = clf.score(x_train, y_train)\n",
    "    test_acc = clf.score(x_test, y_test)\n",
    "    # print(f'Accuracy train: {train_acc:.3f}')\n",
    "    # print(f'Accuracy test: {test_acc:.3f}')\n",
    "    return [\n",
    "        {\n",
    "        'mode': str(clf), \n",
    "        'eval_data': 'train',\n",
    "        'type': 'dummies',\n",
    "        'acc': train_acc,\n",
    "        },\n",
    "        {        \n",
    "        'mode': str(clf), \n",
    "        'eval_data': 'test',\n",
    "        'type': 'dummies',\n",
    "        'acc': test_acc,\n",
    "        }\n",
    "    ]\n",
    "\n",
    "def test_ordered_category(df, clf, cat_cols, normalize=False):\n",
    "    df_cat = df.copy()\n",
    "    df_cat.education_level = df_cat.education_level.fillna('Other')\n",
    "    for col in cat_cols:\n",
    "        df_cat[col] = df_cat[col].astype('category')\n",
    "\n",
    "    new_categories = ['Other', 'Primary School', 'High School', 'Graduate', 'Masters', 'Phd']\n",
    "    df_cat.education_level = df_cat.education_level.cat.reorder_categories(new_categories=new_categories)\n",
    "\n",
    "    for col in cat_cols:\n",
    "        df_cat[col] = df_cat[col].cat.codes\n",
    "\n",
    "    x_train, x_test, y_train, y_test = train_test_split(df_cat.drop('target', axis=1), df_cat.target, random_state=seed)\n",
    "    if normalize:\n",
    "        scaler = MinMaxScaler()\n",
    "        x_train = scaler.fit_transform(x_train)\n",
    "        x_test = scaler.transform(x_test)\n",
    "    \n",
    "    clf.fit(x_train, y_train)\n",
    "\n",
    "    train_acc = clf.score(x_train, y_train)\n",
    "    test_acc = clf.score(x_test, y_test)\n",
    "    # print(f'Accuracy train: {train_acc:.3f}')\n",
    "    # print(f'Accuracy test: {test_acc:.3f}')\n",
    "    return [\n",
    "        {\n",
    "        'mode': str(clf), \n",
    "        'eval_data': 'train',\n",
    "        'type': 'ordered',\n",
    "        'acc': train_acc,\n",
    "        },\n",
    "        {        \n",
    "        'mode': str(clf), \n",
    "        'eval_data': 'test',\n",
    "        'type': 'ordered',\n",
    "        'acc': test_acc,\n",
    "        }\n",
    "    ]\n",
    "\n",
    "def test_unordered_category(df, clf, cat_cols, normalize=False):\n",
    "    df_cat = df.copy()\n",
    "    for col in cat_cols:\n",
    "        df_cat[col] = df_cat[col].astype('category').cat.codes\n",
    "    \n",
    "    x_train, x_test, y_train, y_test = train_test_split(df_cat.drop('target', axis=1), df_cat.target, random_state=seed)\n",
    "    if normalize:\n",
    "        scaler = MinMaxScaler()\n",
    "        x_train = scaler.fit_transform(x_train)\n",
    "        x_test = scaler.transform(x_test)\n",
    "    \n",
    "    clf.fit(x_train, y_train)\n",
    "\n",
    "    train_acc = clf.score(x_train, y_train)\n",
    "    test_acc = clf.score(x_test, y_test)\n",
    "    # print(f'Accuracy train: {train_acc:.3f}')\n",
    "    # print(f'Accuracy test: {test_acc:.3f}')\n",
    "    return [\n",
    "        {\n",
    "        'mode': str(clf), \n",
    "        'eval_data': 'train',\n",
    "        'type': 'unordered',\n",
    "        'acc': train_acc,\n",
    "        },\n",
    "        {        \n",
    "        'mode': str(clf), \n",
    "        'eval_data': 'test',\n",
    "        'type': 'unordered',\n",
    "        'acc': test_acc,\n",
    "        }\n",
    "    ]\n",
    "\n",
    "def test_cat_and_dummies(df, cat_cols, model=DecisionTreeClassifier(random_state=seed), normalize=False) -> List:\n",
    "    scores = []\n",
    "    scores += test_dummies(df, clf=model, cat_cols=cat_cols, normalize=normalize)\n",
    "    scores += test_unordered_category(df, clf=model, cat_cols=cat_cols, normalize=normalize)\n",
    "    scores += test_ordered_category(df, clf=model, cat_cols=cat_cols, normalize=normalize)\n",
    "    return scores\n",
    "\n",
    "seed = 42\n",
    "cat_cols = ['relevent_experience', 'gender', 'education_level']\n",
    "cat_cols = df.select_dtypes('object').columns.tolist()\n",
    "scores = test_cat_and_dummies(df, cat_cols=cat_cols, model=DecisionTreeClassifier(random_state=seed, min_samples_leaf=5, max_depth=3))\n",
    "scores\n"
   ]
  },
  {
   "cell_type": "code",
   "execution_count": 405,
   "metadata": {},
   "outputs": [],
   "source": [
    "def create_comparison_chart(df, cat_cols, iter_param='n_neighbors', params=None, \n",
    "                            model=DecisionTreeClassifier, start=1, end=20, flip=False, normalize=False):\n",
    "    params = {} if params is None else params\n",
    "    scores = []\n",
    "    stepsize = (end-start) / 10\n",
    "    for i in tqdm(np.arange(start, end, stepsize)):\n",
    "        # res = test_cat_and_dummies(df, cat_cols=cat_cols, model=DecisionTreeClassifier(random_state=seed))\n",
    "        # res = test_cat_and_dummies(df, cat_cols=cat_cols, model=DecisionTreeClassifier(random_state=seed, min_samples_leaf=5, max_depth=i))\n",
    "        res = test_cat_and_dummies(df, cat_cols=cat_cols, normalize=normalize, model=model(**{iter_param: i}, **params))\n",
    "        res = [{iter_param: i, **x} for x in res]\n",
    "        scores.append(res)\n",
    "    scores = pd.concat([pd.DataFrame(x) for x in scores])\n",
    "\n",
    "    fig, ax = plt.subplots(figsize=(10, 7))\n",
    "    ax = sns.lineplot(data=scores, y='acc', x=iter_param, hue='eval_data', markers=True, style='type')\n",
    "    if flip:\n",
    "        ax.invert_xaxis()\n",
    "    return ax"
   ]
  },
  {
   "cell_type": "code",
   "execution_count": 415,
   "metadata": {},
   "outputs": [
    {
     "name": "stderr",
     "output_type": "stream",
     "text": [
      "100%|██████████| 10/10 [00:04<00:00,  2.13it/s]\n"
     ]
    },
    {
     "data": {
      "image/png": "[encoded data removed]",
      "text/plain": [
       "<Figure size 720x504 with 1 Axes>"
      ]
     },
     "metadata": {},
     "output_type": "display_data"
    }
   ],
   "source": [
    "create_comparison_chart(df, cat_cols=cat_cols, iter_param='max_depth', params={'min_samples_leaf': 5}, model=DecisionTreeClassifier, \n",
    "    start=1, end=41, flip=True)\n",
    "plt.savefig('images/decision_tree_dummies_performance_over_max_depth.png', dpi=100)"
   ]
  },
  {
   "cell_type": "code",
   "execution_count": 382,
   "metadata": {},
   "outputs": [
    {
     "name": "stderr",
     "output_type": "stream",
     "text": [
      "100%|██████████| 10/10 [02:04<00:00, 12.41s/it]\n"
     ]
    },
    {
     "data": {
      "image/png": "[encoded data removed]",
      "text/plain": [
       "<Figure size 720x504 with 1 Axes>"
      ]
     },
     "metadata": {},
     "output_type": "display_data"
    }
   ],
   "source": [
    "create_comparison_chart(df, cat_cols=cat_cols, iter_param='n_neighbors', params={'n_jobs': -1}, model=KNeighborsClassifier, start=1, end=21, flip=False)\n",
    "plt.savefig('images/knn_dummies_performance_over_n_neigbors.png', dpi=100)"
   ]
  },
  {
   "cell_type": "code",
   "execution_count": 414,
   "metadata": {},
   "outputs": [
    {
     "name": "stderr",
     "output_type": "stream",
     "text": [
      "100%|██████████| 10/10 [00:03<00:00,  2.67it/s]\n"
     ]
    },
    {
     "data": {
      "image/png": "[encoded data removed]",
      "text/plain": [
       "<Figure size 720x504 with 1 Axes>"
      ]
     },
     "metadata": {},
     "output_type": "display_data"
    }
   ],
   "source": [
    "from sklearn.svm import LinearSVC\n",
    "create_comparison_chart(df, cat_cols=cat_cols, iter_param='tol', params={'random_state': seed, 'dual': False}, \n",
    "                        model=LinearSVC, start=1e-4, end=1e-2, flip=False, normalize=True)\n",
    "plt.savefig('images/svm_dummies_vs_categorical.png', dpi=100)"
   ]
  }
 ],
 "metadata": {
  "interpreter": {
   "hash": "c38f211982bd679d5ca5d79a71d7517c654455bae4af5c30a3c557803a2cce89"
  },
  "kernelspec": {
   "display_name": "Python 3.8.8 ('base')",
   "language": "python",
   "name": "python3"
  },
  "language_info": {
   "codemirror_mode": {
    "name": "ipython",
    "version": 3
   },
   "file_extension": ".py",
   "mimetype": "text/x-python",
   "name": "python",
   "nbconvert_exporter": "python",
   "pygments_lexer": "ipython3",
   "version": "3.8.8"
  },
  "orig_nbformat": 4
 },
 "nbformat": 4,
 "nbformat_minor": 2
}
